{
 "cells": [
  {
   "cell_type": "code",
   "execution_count": 47,
   "metadata": {},
   "outputs": [
    {
     "name": "stderr",
     "output_type": "stream",
     "text": [
      "Found cached dataset csv (/home/adil/.cache/huggingface/datasets/csv/dataset-4afc3749bed64de0/0.0.0/6954658bab30a358235fa864b05cf819af0e179325c740e4bc853bcc7ec513e1)\n"
     ]
    },
    {
     "data": {
      "text/plain": [
       "Dataset({\n",
       "    features: ['Unnamed: 0', 'title', 'ingredients', 'directions', 'link', 'source', 'NER'],\n",
       "    num_rows: 2231142\n",
       "})"
      ]
     },
     "execution_count": 47,
     "metadata": {},
     "output_type": "execute_result"
    }
   ],
   "source": [
    "from datasets import load_dataset\n",
    "test = load_dataset(\"/home/adil/Documents/TuE/q4/KnowledgeEngineering/knowledgeEngineering/new-recipe-code/dataset\", split=\"train\")\n",
    "test"
   ]
  },
  {
   "cell_type": "code",
   "execution_count": 214,
   "metadata": {},
   "outputs": [],
   "source": [
    "import pandas as pd\n",
    "df: pd.DataFrame = pd.DataFrame(test[:1000])"
   ]
  },
  {
   "cell_type": "code",
   "execution_count": 215,
   "metadata": {},
   "outputs": [
    {
     "data": {
      "text/plain": [
       "'[\"2 (16 oz.) pkg. frozen corn\", \"1 (8 oz.) pkg. cream cheese, cubed\", \"1/3 c. butter, cubed\", \"1/2 tsp. garlic powder\", \"1/2 tsp. salt\", \"1/4 tsp. pepper\"]'"
      ]
     },
     "execution_count": 215,
     "metadata": {},
     "output_type": "execute_result"
    }
   ],
   "source": [
    "df['ingredients'][2]"
   ]
  },
  {
   "cell_type": "code",
   "execution_count": 239,
   "metadata": {},
   "outputs": [],
   "source": [
    "import json\n",
    "import re\n",
    "from fractions import Fraction\n",
    "\n",
    "\n",
    "import typing\n",
    "unitConversions: dict = {\n",
    "    'c.': '236.588 ml',\n",
    "    'tsp.': '4.92892 ml',\n",
    "    'tbsp.': '14.7868 ml',\n",
    "    'oz.': '29.5735 ml',\n",
    "    'pt.': '473.176 ml',\n",
    "    'qt.':' 946.353 ml',\n",
    "    'lb.': '453.592 grams',\n",
    "    'gal.': '3785.41 ml',\n",
    "    ' oz': ' 29.5735 ml',\n",
    "}\n",
    "\n",
    "def replace_units(text: str) -> str:\n",
    "    # replaces american units with european units\n",
    "    text= text.lower()\n",
    "    for key, value in unitConversions.items():\n",
    "        text = text.replace(key, value)\n",
    "    return text\n",
    "def replace_fractions(text:str)-> str:\n",
    "    # replaces fractions with decimals\n",
    "    text = text.lower()\n",
    "    text = re.sub(r'(?:(\\d+)[-\\s])?(\\d+/\\d+)', frac2string, text)\n",
    "    return text\n",
    "def frac2string(s):\n",
    "    # helper function for replace_fractions\n",
    "    i, f = s.groups(0)\n",
    "    f = Fraction(f)\n",
    "    return str(int(i) + float(f))\n",
    "\n",
    "\n",
    "def convert_and_multiply_units(text: str) -> list:\n",
    "    # converts units to floats within strings and multiplies them\n",
    "    # e.g 1 0.5 0.24 ml becomes 0.12 ml\n",
    "    ingredients: list = json.loads(text)\n",
    "    ingredient_list = []\n",
    "    for ingredient in ingredients: # ingredient is a string with units and one specific ingredient\n",
    "        ingredient_split: list[str] = re.split(r'\\s+|\\)|\\(', ingredient)\n",
    "        filtered_result = [item for item in ingredient_split if item]\n",
    "        converted_values: list= []\n",
    "        for index, item in enumerate(filtered_result):\n",
    "            try: # try to turn it into a float and multiply\n",
    "                converted_value = float(item)\n",
    "                if len(converted_values) >= 1 and isinstance(converted_values[-1], float):\n",
    "                    converted_value = converted_values[-1] * converted_value # multiply latest float with current\n",
    "                    converted_values.pop(-1) # remove latest value, since were using it to multiply\n",
    "                    converted_values.append(float(converted_value)) \n",
    "                else:\n",
    "                    converted_values.append(converted_value)   \n",
    "            except ValueError:\n",
    "                converted_values.append(item)\n",
    "                pass\n",
    "            except  IndexError:\n",
    "                pass\n",
    "        ingredient_string = \" \".join(str(item) for item in converted_values) # join the list back together    \n",
    "        ingredient_list.append(ingredient_string)\n",
    "    return ingredient_list\n",
    "\n",
    "\n",
    "df['ingredients'] = df['ingredients'].apply(lambda text: replace_units(text))\n",
    "df['ingredients'] = df['ingredients'].apply(lambda text: replace_fractions(text))\n",
    "df['ingredients'] = df['ingredients'].apply(lambda text: convert_and_multiply_units(text))\n"
   ]
  },
  {
   "cell_type": "code",
   "execution_count": 240,
   "metadata": {},
   "outputs": [
    {
     "data": {
      "text/plain": [
       "0      [236.588 ml firmly packed brown sugar, 118.294...\n",
       "1      [1.0 small jar chipped beef, cut up, 4.0 boned...\n",
       "2      [946.352 ml pkg. frozen corn, 236.588 ml pkg. ...\n",
       "3      [1.0 large whole chicken, 621.0435 ml cans chi...\n",
       "4      [236.588 ml peanut butter, 177.441 ml graham c...\n",
       "                             ...                        \n",
       "995    [3.0 heath bars, chopped fine, 1.0 medium cont...\n",
       "996    [236.588 ml brown sugar, 78.86266666666666 ml ...\n",
       "997    [453.592 grams ground beef, 236.588 ml soft br...\n",
       "998    [907.184 grams lamb, cut in 1-inch cubes, 473....\n",
       "999    [2-3 29.5735 ml boxes peach jello, 1.0 large j...\n",
       "Name: ingredients, Length: 1000, dtype: object"
      ]
     },
     "execution_count": 240,
     "metadata": {},
     "output_type": "execute_result"
    }
   ],
   "source": [
    "df['ingredients']"
   ]
  },
  {
   "cell_type": "code",
   "execution_count": null,
   "metadata": {},
   "outputs": [],
   "source": [
    "def multiply_units(text: str):\n",
    "    ingredients: list = json.loads(text)\n",
    "    for ingredient in ingredients:\n",
    "        ingredient_split: list[str] = re.split(r'\\s+|\\)|\\(', ingredient)\n",
    "        filtered_result = [item for item in ingredient_split if item]\n",
    "        print(filtered_result)\n",
    "        for index, item in enumerate(filtered_result):\n",
    "            try:\n",
    "                filtered_result[index] = float(item)\n",
    "                print(filtered_result)\n",
    "                    \n",
    "            except ValueError as e:\n",
    "                pass"
   ]
  },
  {
   "cell_type": "code",
   "execution_count": 204,
   "metadata": {},
   "outputs": [
    {
     "name": "stdout",
     "output_type": "stream",
     "text": [
      "10\n"
     ]
    }
   ],
   "source": [
    "testlist = [1,2,3,4,5,6,7,8,9,10]"
   ]
  },
  {
   "cell_type": "code",
   "execution_count": null,
   "metadata": {},
   "outputs": [],
   "source": [
    "import networkx as nx\n",
    "from pyvis.network import Network\n",
    "from IPython.core.display import HTML\n",
    "\n",
    "# Enable the pyvis interactive display in the Jupyter notebook\n",
    "from pyvis import network as net\n",
    "net.template = \"notebook\"\n",
    "net.NOTEBOOK = True\n",
    "\n",
    "\n",
    "# Create a NetworkX graph\n",
    "G = nx.Graph()\n",
    "node_list = []\n",
    "edge_list = []\n",
    "for key, value in dictTopic.items():\n",
    "    if data[int(key)].find('country') != None:\n",
    "        country = data[int(key)].find('country').text\n",
    "        country = country.replace(f'</country>', \"\")\n",
    "\n",
    "        topic = dictTopic[key].replace(f'<topic type=\"str\">', \"\")\n",
    "        topic = topic.replace(f'</topic>', \"\")\n",
    "        node_list.append(country)\n",
    "        node_list.append(topic)\n",
    "        edge_list.append((country, topic))\n",
    "    else:\n",
    "        #print(\"we didn't find a country for this specific article: \", data[int(key)].attrib['id'])\n",
    "        pass\n",
    "    \n",
    "G.add_nodes_from(node_list)\n",
    "G.add_edges_from(edge_list)\n",
    "\n",
    "# Create a pyvis network object\n",
    "net = Network(height=\"500px\", width=\"100%\", bgcolor=\"#222222\", font_color=\"white\", notebook=True)\n",
    "\n",
    "# Add nodes and edges to the pyvis network object, and set tooltips for each node\n",
    "for node in G.nodes():\n",
    "    tooltip = \"{}\".format(node)\n",
    "    net.add_node(node, title=tooltip)\n",
    "for edge in G.edges():\n",
    "    net.add_edge(*edge, title=\"hasTopic\")\n",
    "print(\"Please zoom-in using your scrollwheel and hover over the nodes and edges\")\n",
    "# Display the interactive network graph with tooltips in the Jupyter notebook\n",
    "\n",
    "net.show(\"example.html\")"
   ]
  }
 ],
 "metadata": {
  "kernelspec": {
   "display_name": "Python 3.10.6 ('knowEng')",
   "language": "python",
   "name": "python3"
  },
  "language_info": {
   "codemirror_mode": {
    "name": "ipython",
    "version": 3
   },
   "file_extension": ".py",
   "mimetype": "text/x-python",
   "name": "python",
   "nbconvert_exporter": "python",
   "pygments_lexer": "ipython3",
   "version": "3.10.6"
  },
  "orig_nbformat": 4,
  "vscode": {
   "interpreter": {
    "hash": "95f476ca78fdcd178a66061f81770c5180b89ff82e4d44ec6baf5a8a31d832b5"
   }
  }
 },
 "nbformat": 4,
 "nbformat_minor": 2
}
