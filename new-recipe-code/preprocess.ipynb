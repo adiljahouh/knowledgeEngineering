{
 "cells": [
  {
   "cell_type": "code",
   "execution_count": 24,
   "metadata": {},
   "outputs": [
    {
     "name": "stderr",
     "output_type": "stream",
     "text": [
      "Found cached dataset csv (/home/adil/.cache/huggingface/datasets/csv/recipe_dataset-64f57f729428df26/0.0.0/6954658bab30a358235fa864b05cf819af0e179325c740e4bc853bcc7ec513e1)\n"
     ]
    },
    {
     "data": {
      "text/plain": [
       "Dataset({\n",
       "    features: ['Unnamed: 0', 'title', 'ingredients', 'directions', 'link', 'source', 'NER'],\n",
       "    num_rows: 2231142\n",
       "})"
      ]
     },
     "execution_count": 24,
     "metadata": {},
     "output_type": "execute_result"
    }
   ],
   "source": [
    "import pandas as pd\n",
    "import json\n",
    "import re\n",
    "from fractions import Fraction\n",
    "import typing\n",
    "from googletrans import Translator, constants\n",
    "from datasets import load_dataset\n",
    "## LOADS AND CACHES DATASET WILL RUN FASTER BEYOND FIRST CALL\n",
    "dataset = load_dataset(\"recipe_dataset\", split=\"train\")\n",
    "dataset"
   ]
  },
  {
   "cell_type": "code",
   "execution_count": 19,
   "metadata": {},
   "outputs": [],
   "source": [
    "recipe_df: pd.DataFrame = pd.DataFrame(dataset[:1000])"
   ]
  },
  {
   "cell_type": "code",
   "execution_count": 20,
   "metadata": {},
   "outputs": [
    {
     "data": {
      "text/plain": [
       "0    [\"sugar\", \"milk\", \"vanilla\", \"nuts\", \"butter\",...\n",
       "1                 [\"beef\", \"breasts\", \"soup\", \"cream\"]\n",
       "2    [\"corn\", \"cheese\", \"butter\", \"powder\", \"salt\",...\n",
       "3               [\"chicken\", \"gravy\", \"soup\", \"cheese\"]\n",
       "4     [\"butter\", \"crumbs\", \"butter\", \"sugar\", \"chips\"]\n",
       "Name: NER_simple, dtype: object"
      ]
     },
     "execution_count": 20,
     "metadata": {},
     "output_type": "execute_result"
    }
   ],
   "source": [
    "\n",
    "unitConversions: dict = {\n",
    "    'c.': '236.588 ml',\n",
    "    'tsp.': '4.92892 ml',\n",
    "    'tbsp.': '14.7868 ml',\n",
    "    'oz.': '29.5735 ml',\n",
    "    'pt.': '473.176 ml',\n",
    "    'qt.':' 946.353 ml',\n",
    "    'lb.': '453.592 grams',\n",
    "    'gal.': '3785.41 ml',\n",
    "    ' oz': ' 29.5735 ml',\n",
    "}\n",
    "\n",
    "def replace_units(text: str) -> str:\n",
    "    # replaces american units with european units\n",
    "    text= text.lower()\n",
    "    for key, value in unitConversions.items():\n",
    "        text = text.replace(key, value)\n",
    "    return text\n",
    "def replace_fractions(text:str)-> str:\n",
    "    # replaces fractions with decimals\n",
    "    text = text.lower()\n",
    "    text = re.sub(r'(?:(\\d+)[-\\s])?(\\d+/\\d+)', frac2string, text)\n",
    "    return text\n",
    "def frac2string(s):\n",
    "    # helper function for replace_fractions\n",
    "    i, f = s.groups(0)\n",
    "    f = Fraction(f)\n",
    "    return str(int(i) + float(f))\n",
    "\n",
    "# Function to simplify ingredients by only keeping the last word \n",
    "def keep_last_word(item):\n",
    "    words = [x.split()[-1] for x in eval(item)]\n",
    "    return str(words).replace(\"'\", '\"')\n",
    "\n",
    "def convert_and_multiply_units(text: str) -> list:\n",
    "    # converts units to floats within strings and multiplies them\n",
    "    # e.g 1 0.5 0.24 ml becomes 0.12 ml\n",
    "    ingredients: list = json.loads(text)\n",
    "    ingredient_list = []\n",
    "    for ingredient in ingredients: # ingredient is a string with units and one specific ingredient\n",
    "        ingredient_split: list[str] = re.split(r'\\s+|\\)|\\(', ingredient)\n",
    "        filtered_result = [item for item in ingredient_split if item]\n",
    "        converted_values: list= []\n",
    "        for index, item in enumerate(filtered_result):\n",
    "            try: # try to turn it into a float and multiply\n",
    "                converted_value = float(item)\n",
    "                if len(converted_values) >= 1 and isinstance(converted_values[-1], float):\n",
    "                    converted_value = converted_values[-1] * converted_value # multiply latest float with current\n",
    "                    converted_values.pop(-1) # remove latest value, since were using it to multiply\n",
    "                    converted_values.append(float(converted_value)) \n",
    "                else:\n",
    "                    converted_values.append(converted_value)   \n",
    "            except ValueError:\n",
    "                converted_values.append(item)\n",
    "                pass\n",
    "            except  IndexError:\n",
    "                pass\n",
    "        ingredient_string = \" \".join(str(item) for item in converted_values) # join the list back together    \n",
    "        ingredient_list.append(ingredient_string)\n",
    "    return ingredient_list\n",
    "\n",
    "recipe_df['ingredients'] = recipe_df['ingredients'].apply(lambda text: replace_units(text))\n",
    "recipe_df['ingredients'] = recipe_df['ingredients'].apply(lambda text: replace_fractions(text))\n",
    "recipe_df['ingredients'] = recipe_df['ingredients'].apply(lambda text: convert_and_multiply_units(text))\n",
    "recipe_df['NER_simple'] = recipe_df['NER'].apply(keep_last_word)\n",
    "\n",
    "recipe_df['NER_simple'].head()"
   ]
  },
  {
   "cell_type": "code",
   "execution_count": 26,
   "metadata": {},
   "outputs": [
    {
     "ename": "KeyboardInterrupt",
     "evalue": "",
     "output_type": "error",
     "traceback": [
      "\u001b[0;31m---------------------------------------------------------------------------\u001b[0m",
      "\u001b[0;31mKeyboardInterrupt\u001b[0m                         Traceback (most recent call last)",
      "Cell \u001b[0;32mIn[26], line 16\u001b[0m\n\u001b[1;32m     14\u001b[0m   \u001b[38;5;28;01mif\u001b[39;00m write:\n\u001b[1;32m     15\u001b[0m     ah_products\u001b[38;5;241m.\u001b[39mto_csv(output_path)\n\u001b[0;32m---> 16\u001b[0m \u001b[43mtranslator\u001b[49m\u001b[43m(\u001b[49m\u001b[43m)\u001b[49m\n",
      "Cell \u001b[0;32mIn[26], line 10\u001b[0m, in \u001b[0;36mtranslator\u001b[0;34m(output_path, write)\u001b[0m\n\u001b[1;32m      7\u001b[0m tarray \u001b[38;5;241m=\u001b[39m []\n\u001b[1;32m      9\u001b[0m \u001b[38;5;28;01mfor\u001b[39;00m product \u001b[38;5;129;01min\u001b[39;00m ah_products[\u001b[38;5;124m'\u001b[39m\u001b[38;5;124mn\u001b[39m\u001b[38;5;124m'\u001b[39m]:\n\u001b[0;32m---> 10\u001b[0m   translations \u001b[38;5;241m=\u001b[39m \u001b[43mtranslator\u001b[49m\u001b[38;5;241;43m.\u001b[39;49m\u001b[43mtranslate\u001b[49m\u001b[43m(\u001b[49m\u001b[43mproduct\u001b[49m\u001b[43m,\u001b[49m\u001b[43m \u001b[49m\u001b[43msrc\u001b[49m\u001b[38;5;241;43m=\u001b[39;49m\u001b[38;5;124;43m\"\u001b[39;49m\u001b[38;5;124;43mnl\u001b[39;49m\u001b[38;5;124;43m\"\u001b[39;49m\u001b[43m,\u001b[49m\u001b[43m \u001b[49m\u001b[43mdest\u001b[49m\u001b[38;5;241;43m=\u001b[39;49m\u001b[38;5;124;43m\"\u001b[39;49m\u001b[38;5;124;43men\u001b[39;49m\u001b[38;5;124;43m\"\u001b[39;49m\u001b[43m)\u001b[49m\n\u001b[1;32m     11\u001b[0m   tarray\u001b[38;5;241m.\u001b[39mappend(translations\u001b[38;5;241m.\u001b[39mtext)\n\u001b[1;32m     13\u001b[0m ah_products[\u001b[38;5;124m'\u001b[39m\u001b[38;5;124ml_en\u001b[39m\u001b[38;5;124m'\u001b[39m] \u001b[38;5;241m=\u001b[39m tarray\n",
      "File \u001b[0;32m~/anaconda3/envs/knowEng/lib/python3.10/site-packages/googletrans/client.py:210\u001b[0m, in \u001b[0;36mTranslator.translate\u001b[0;34m(self, text, dest, src, **kwargs)\u001b[0m\n\u001b[1;32m    207\u001b[0m     \u001b[39mreturn\u001b[39;00m result\n\u001b[1;32m    209\u001b[0m origin \u001b[39m=\u001b[39m text\n\u001b[0;32m--> 210\u001b[0m data, response \u001b[39m=\u001b[39m \u001b[39mself\u001b[39;49m\u001b[39m.\u001b[39;49m_translate(text, dest, src, kwargs)\n\u001b[1;32m    212\u001b[0m \u001b[39m# this code will be updated when the format is changed.\u001b[39;00m\n\u001b[1;32m    213\u001b[0m translated \u001b[39m=\u001b[39m \u001b[39m'\u001b[39m\u001b[39m'\u001b[39m\u001b[39m.\u001b[39mjoin([d[\u001b[39m0\u001b[39m] \u001b[39mif\u001b[39;00m d[\u001b[39m0\u001b[39m] \u001b[39melse\u001b[39;00m \u001b[39m'\u001b[39m\u001b[39m'\u001b[39m \u001b[39mfor\u001b[39;00m d \u001b[39min\u001b[39;00m data[\u001b[39m0\u001b[39m]])\n",
      "File \u001b[0;32m~/anaconda3/envs/knowEng/lib/python3.10/site-packages/googletrans/client.py:108\u001b[0m, in \u001b[0;36mTranslator._translate\u001b[0;34m(self, text, dest, src, override)\u001b[0m\n\u001b[1;32m    104\u001b[0m params \u001b[39m=\u001b[39m utils\u001b[39m.\u001b[39mbuild_params(client\u001b[39m=\u001b[39m\u001b[39mself\u001b[39m\u001b[39m.\u001b[39mclient_type, query\u001b[39m=\u001b[39mtext, src\u001b[39m=\u001b[39msrc, dest\u001b[39m=\u001b[39mdest,\n\u001b[1;32m    105\u001b[0m                             token\u001b[39m=\u001b[39mtoken, override\u001b[39m=\u001b[39moverride)\n\u001b[1;32m    107\u001b[0m url \u001b[39m=\u001b[39m urls\u001b[39m.\u001b[39mTRANSLATE\u001b[39m.\u001b[39mformat(host\u001b[39m=\u001b[39m\u001b[39mself\u001b[39m\u001b[39m.\u001b[39m_pick_service_url())\n\u001b[0;32m--> 108\u001b[0m r \u001b[39m=\u001b[39m \u001b[39mself\u001b[39;49m\u001b[39m.\u001b[39;49mclient\u001b[39m.\u001b[39;49mget(url, params\u001b[39m=\u001b[39;49mparams)\n\u001b[1;32m    110\u001b[0m \u001b[39mif\u001b[39;00m r\u001b[39m.\u001b[39mstatus_code \u001b[39m==\u001b[39m \u001b[39m200\u001b[39m:\n\u001b[1;32m    111\u001b[0m     data \u001b[39m=\u001b[39m utils\u001b[39m.\u001b[39mformat_json(r\u001b[39m.\u001b[39mtext)\n",
      "File \u001b[0;32m~/anaconda3/envs/knowEng/lib/python3.10/site-packages/httpx/_client.py:755\u001b[0m, in \u001b[0;36mClient.get\u001b[0;34m(self, url, params, headers, cookies, auth, allow_redirects, timeout)\u001b[0m\n\u001b[1;32m    744\u001b[0m \u001b[39mdef\u001b[39;00m \u001b[39mget\u001b[39m(\n\u001b[1;32m    745\u001b[0m     \u001b[39mself\u001b[39m,\n\u001b[1;32m    746\u001b[0m     url: URLTypes,\n\u001b[0;32m   (...)\u001b[0m\n\u001b[1;32m    753\u001b[0m     timeout: typing\u001b[39m.\u001b[39mUnion[TimeoutTypes, UnsetType] \u001b[39m=\u001b[39m UNSET,\n\u001b[1;32m    754\u001b[0m ) \u001b[39m-\u001b[39m\u001b[39m>\u001b[39m Response:\n\u001b[0;32m--> 755\u001b[0m     \u001b[39mreturn\u001b[39;00m \u001b[39mself\u001b[39;49m\u001b[39m.\u001b[39;49mrequest(\n\u001b[1;32m    756\u001b[0m         \u001b[39m\"\u001b[39;49m\u001b[39mGET\u001b[39;49m\u001b[39m\"\u001b[39;49m,\n\u001b[1;32m    757\u001b[0m         url,\n\u001b[1;32m    758\u001b[0m         params\u001b[39m=\u001b[39;49mparams,\n\u001b[1;32m    759\u001b[0m         headers\u001b[39m=\u001b[39;49mheaders,\n\u001b[1;32m    760\u001b[0m         cookies\u001b[39m=\u001b[39;49mcookies,\n\u001b[1;32m    761\u001b[0m         auth\u001b[39m=\u001b[39;49mauth,\n\u001b[1;32m    762\u001b[0m         allow_redirects\u001b[39m=\u001b[39;49mallow_redirects,\n\u001b[1;32m    763\u001b[0m         timeout\u001b[39m=\u001b[39;49mtimeout,\n\u001b[1;32m    764\u001b[0m     )\n",
      "File \u001b[0;32m~/anaconda3/envs/knowEng/lib/python3.10/site-packages/httpx/_client.py:600\u001b[0m, in \u001b[0;36mClient.request\u001b[0;34m(self, method, url, data, files, json, params, headers, cookies, auth, allow_redirects, timeout)\u001b[0m\n\u001b[1;32m    575\u001b[0m \u001b[39mdef\u001b[39;00m \u001b[39mrequest\u001b[39m(\n\u001b[1;32m    576\u001b[0m     \u001b[39mself\u001b[39m,\n\u001b[1;32m    577\u001b[0m     method: \u001b[39mstr\u001b[39m,\n\u001b[0;32m   (...)\u001b[0m\n\u001b[1;32m    588\u001b[0m     timeout: typing\u001b[39m.\u001b[39mUnion[TimeoutTypes, UnsetType] \u001b[39m=\u001b[39m UNSET,\n\u001b[1;32m    589\u001b[0m ) \u001b[39m-\u001b[39m\u001b[39m>\u001b[39m Response:\n\u001b[1;32m    590\u001b[0m     request \u001b[39m=\u001b[39m \u001b[39mself\u001b[39m\u001b[39m.\u001b[39mbuild_request(\n\u001b[1;32m    591\u001b[0m         method\u001b[39m=\u001b[39mmethod,\n\u001b[1;32m    592\u001b[0m         url\u001b[39m=\u001b[39murl,\n\u001b[0;32m   (...)\u001b[0m\n\u001b[1;32m    598\u001b[0m         cookies\u001b[39m=\u001b[39mcookies,\n\u001b[1;32m    599\u001b[0m     )\n\u001b[0;32m--> 600\u001b[0m     \u001b[39mreturn\u001b[39;00m \u001b[39mself\u001b[39;49m\u001b[39m.\u001b[39;49msend(\n\u001b[1;32m    601\u001b[0m         request, auth\u001b[39m=\u001b[39;49mauth, allow_redirects\u001b[39m=\u001b[39;49mallow_redirects, timeout\u001b[39m=\u001b[39;49mtimeout,\n\u001b[1;32m    602\u001b[0m     )\n",
      "File \u001b[0;32m~/anaconda3/envs/knowEng/lib/python3.10/site-packages/httpx/_client.py:620\u001b[0m, in \u001b[0;36mClient.send\u001b[0;34m(self, request, stream, auth, allow_redirects, timeout)\u001b[0m\n\u001b[1;32m    616\u001b[0m timeout \u001b[39m=\u001b[39m \u001b[39mself\u001b[39m\u001b[39m.\u001b[39mtimeout \u001b[39mif\u001b[39;00m \u001b[39misinstance\u001b[39m(timeout, UnsetType) \u001b[39melse\u001b[39;00m Timeout(timeout)\n\u001b[1;32m    618\u001b[0m auth \u001b[39m=\u001b[39m \u001b[39mself\u001b[39m\u001b[39m.\u001b[39mbuild_auth(request, auth)\n\u001b[0;32m--> 620\u001b[0m response \u001b[39m=\u001b[39m \u001b[39mself\u001b[39;49m\u001b[39m.\u001b[39;49msend_handling_redirects(\n\u001b[1;32m    621\u001b[0m     request, auth\u001b[39m=\u001b[39;49mauth, timeout\u001b[39m=\u001b[39;49mtimeout, allow_redirects\u001b[39m=\u001b[39;49mallow_redirects,\n\u001b[1;32m    622\u001b[0m )\n\u001b[1;32m    624\u001b[0m \u001b[39mif\u001b[39;00m \u001b[39mnot\u001b[39;00m stream:\n\u001b[1;32m    625\u001b[0m     \u001b[39mtry\u001b[39;00m:\n",
      "File \u001b[0;32m~/anaconda3/envs/knowEng/lib/python3.10/site-packages/httpx/_client.py:647\u001b[0m, in \u001b[0;36mClient.send_handling_redirects\u001b[0;34m(self, request, auth, timeout, allow_redirects, history)\u001b[0m\n\u001b[1;32m    644\u001b[0m \u001b[39mif\u001b[39;00m \u001b[39mlen\u001b[39m(history) \u001b[39m>\u001b[39m \u001b[39mself\u001b[39m\u001b[39m.\u001b[39mmax_redirects:\n\u001b[1;32m    645\u001b[0m     \u001b[39mraise\u001b[39;00m TooManyRedirects()\n\u001b[0;32m--> 647\u001b[0m response \u001b[39m=\u001b[39m \u001b[39mself\u001b[39;49m\u001b[39m.\u001b[39;49msend_handling_auth(\n\u001b[1;32m    648\u001b[0m     request, auth\u001b[39m=\u001b[39;49mauth, timeout\u001b[39m=\u001b[39;49mtimeout, history\u001b[39m=\u001b[39;49mhistory\n\u001b[1;32m    649\u001b[0m )\n\u001b[1;32m    650\u001b[0m response\u001b[39m.\u001b[39mhistory \u001b[39m=\u001b[39m \u001b[39mlist\u001b[39m(history)\n\u001b[1;32m    652\u001b[0m \u001b[39mif\u001b[39;00m \u001b[39mnot\u001b[39;00m response\u001b[39m.\u001b[39mis_redirect:\n",
      "File \u001b[0;32m~/anaconda3/envs/knowEng/lib/python3.10/site-packages/httpx/_client.py:684\u001b[0m, in \u001b[0;36mClient.send_handling_auth\u001b[0;34m(self, request, history, auth, timeout)\u001b[0m\n\u001b[1;32m    682\u001b[0m request \u001b[39m=\u001b[39m \u001b[39mnext\u001b[39m(auth_flow)\n\u001b[1;32m    683\u001b[0m \u001b[39mwhile\u001b[39;00m \u001b[39mTrue\u001b[39;00m:\n\u001b[0;32m--> 684\u001b[0m     response \u001b[39m=\u001b[39m \u001b[39mself\u001b[39;49m\u001b[39m.\u001b[39;49msend_single_request(request, timeout)\n\u001b[1;32m    685\u001b[0m     \u001b[39mif\u001b[39;00m auth\u001b[39m.\u001b[39mrequires_response_body:\n\u001b[1;32m    686\u001b[0m         response\u001b[39m.\u001b[39mread()\n",
      "File \u001b[0;32m~/anaconda3/envs/knowEng/lib/python3.10/site-packages/httpx/_client.py:714\u001b[0m, in \u001b[0;36mClient.send_single_request\u001b[0;34m(self, request, timeout)\u001b[0m\n\u001b[1;32m    705\u001b[0m transport \u001b[39m=\u001b[39m \u001b[39mself\u001b[39m\u001b[39m.\u001b[39mtransport_for_url(request\u001b[39m.\u001b[39murl)\n\u001b[1;32m    707\u001b[0m \u001b[39mtry\u001b[39;00m:\n\u001b[1;32m    708\u001b[0m     (\n\u001b[1;32m    709\u001b[0m         http_version,\n\u001b[1;32m    710\u001b[0m         status_code,\n\u001b[1;32m    711\u001b[0m         reason_phrase,\n\u001b[1;32m    712\u001b[0m         headers,\n\u001b[1;32m    713\u001b[0m         stream,\n\u001b[0;32m--> 714\u001b[0m     ) \u001b[39m=\u001b[39m transport\u001b[39m.\u001b[39;49mrequest(\n\u001b[1;32m    715\u001b[0m         request\u001b[39m.\u001b[39;49mmethod\u001b[39m.\u001b[39;49mencode(),\n\u001b[1;32m    716\u001b[0m         request\u001b[39m.\u001b[39;49murl\u001b[39m.\u001b[39;49mraw,\n\u001b[1;32m    717\u001b[0m         headers\u001b[39m=\u001b[39;49mrequest\u001b[39m.\u001b[39;49mheaders\u001b[39m.\u001b[39;49mraw,\n\u001b[1;32m    718\u001b[0m         stream\u001b[39m=\u001b[39;49mrequest\u001b[39m.\u001b[39;49mstream,\n\u001b[1;32m    719\u001b[0m         timeout\u001b[39m=\u001b[39;49mtimeout\u001b[39m.\u001b[39;49mas_dict(),\n\u001b[1;32m    720\u001b[0m     )\n\u001b[1;32m    721\u001b[0m \u001b[39mexcept\u001b[39;00m HTTPError \u001b[39mas\u001b[39;00m exc:\n\u001b[1;32m    722\u001b[0m     \u001b[39m# Add the original request to any HTTPError unless\u001b[39;00m\n\u001b[1;32m    723\u001b[0m     \u001b[39m# there'a already a request attached in the case of\u001b[39;00m\n\u001b[1;32m    724\u001b[0m     \u001b[39m# a ProxyError.\u001b[39;00m\n\u001b[1;32m    725\u001b[0m     \u001b[39mif\u001b[39;00m exc\u001b[39m.\u001b[39m_request \u001b[39mis\u001b[39;00m \u001b[39mNone\u001b[39;00m:\n",
      "File \u001b[0;32m~/anaconda3/envs/knowEng/lib/python3.10/site-packages/httpcore/_sync/connection_pool.py:152\u001b[0m, in \u001b[0;36mSyncConnectionPool.request\u001b[0;34m(self, method, url, headers, stream, timeout)\u001b[0m\n\u001b[1;32m    149\u001b[0m         logger\u001b[39m.\u001b[39mtrace(\u001b[39m\"\u001b[39m\u001b[39mreuse connection=\u001b[39m\u001b[39m%r\u001b[39;00m\u001b[39m\"\u001b[39m, connection)\n\u001b[1;32m    151\u001b[0m \u001b[39mtry\u001b[39;00m:\n\u001b[0;32m--> 152\u001b[0m     response \u001b[39m=\u001b[39m connection\u001b[39m.\u001b[39;49mrequest(\n\u001b[1;32m    153\u001b[0m         method, url, headers\u001b[39m=\u001b[39;49mheaders, stream\u001b[39m=\u001b[39;49mstream, timeout\u001b[39m=\u001b[39;49mtimeout\n\u001b[1;32m    154\u001b[0m     )\n\u001b[1;32m    155\u001b[0m \u001b[39mexcept\u001b[39;00m NewConnectionRequired:\n\u001b[1;32m    156\u001b[0m     connection \u001b[39m=\u001b[39m \u001b[39mNone\u001b[39;00m\n",
      "File \u001b[0;32m~/anaconda3/envs/knowEng/lib/python3.10/site-packages/httpcore/_sync/connection.py:78\u001b[0m, in \u001b[0;36mSyncHTTPConnection.request\u001b[0;34m(self, method, url, headers, stream, timeout)\u001b[0m\n\u001b[1;32m     74\u001b[0m \u001b[39massert\u001b[39;00m \u001b[39mself\u001b[39m\u001b[39m.\u001b[39mconnection \u001b[39mis\u001b[39;00m \u001b[39mnot\u001b[39;00m \u001b[39mNone\u001b[39;00m\n\u001b[1;32m     75\u001b[0m logger\u001b[39m.\u001b[39mtrace(\n\u001b[1;32m     76\u001b[0m     \u001b[39m\"\u001b[39m\u001b[39mconnection.request method=\u001b[39m\u001b[39m%r\u001b[39;00m\u001b[39m url=\u001b[39m\u001b[39m%r\u001b[39;00m\u001b[39m headers=\u001b[39m\u001b[39m%r\u001b[39;00m\u001b[39m\"\u001b[39m, method, url, headers\n\u001b[1;32m     77\u001b[0m )\n\u001b[0;32m---> 78\u001b[0m \u001b[39mreturn\u001b[39;00m \u001b[39mself\u001b[39;49m\u001b[39m.\u001b[39;49mconnection\u001b[39m.\u001b[39;49mrequest(method, url, headers, stream, timeout)\n",
      "File \u001b[0;32m~/anaconda3/envs/knowEng/lib/python3.10/site-packages/httpcore/_sync/http2.py:118\u001b[0m, in \u001b[0;36mSyncHTTP2Connection.request\u001b[0;34m(self, method, url, headers, stream, timeout)\u001b[0m\n\u001b[1;32m    116\u001b[0m     \u001b[39mself\u001b[39m\u001b[39m.\u001b[39mstreams[stream_id] \u001b[39m=\u001b[39m h2_stream\n\u001b[1;32m    117\u001b[0m     \u001b[39mself\u001b[39m\u001b[39m.\u001b[39mevents[stream_id] \u001b[39m=\u001b[39m []\n\u001b[0;32m--> 118\u001b[0m     \u001b[39mreturn\u001b[39;00m h2_stream\u001b[39m.\u001b[39;49mrequest(method, url, headers, stream, timeout)\n\u001b[1;32m    119\u001b[0m \u001b[39mexcept\u001b[39;00m \u001b[39mException\u001b[39;00m:\n\u001b[1;32m    120\u001b[0m     \u001b[39mself\u001b[39m\u001b[39m.\u001b[39mmax_streams_semaphore\u001b[39m.\u001b[39mrelease()\n",
      "File \u001b[0;32m~/anaconda3/envs/knowEng/lib/python3.10/site-packages/httpcore/_sync/http2.py:292\u001b[0m, in \u001b[0;36mSyncHTTP2Stream.request\u001b[0;34m(self, method, url, headers, stream, timeout)\u001b[0m\n\u001b[1;32m    289\u001b[0m     \u001b[39mself\u001b[39m\u001b[39m.\u001b[39msend_body(stream, timeout)\n\u001b[1;32m    291\u001b[0m \u001b[39m# Receive the response.\u001b[39;00m\n\u001b[0;32m--> 292\u001b[0m status_code, headers \u001b[39m=\u001b[39m \u001b[39mself\u001b[39;49m\u001b[39m.\u001b[39;49mreceive_response(timeout)\n\u001b[1;32m    293\u001b[0m reason_phrase \u001b[39m=\u001b[39m get_reason_phrase(status_code)\n\u001b[1;32m    294\u001b[0m stream \u001b[39m=\u001b[39m SyncByteStream(\n\u001b[1;32m    295\u001b[0m     iterator\u001b[39m=\u001b[39m\u001b[39mself\u001b[39m\u001b[39m.\u001b[39mbody_iter(timeout), close_func\u001b[39m=\u001b[39m\u001b[39mself\u001b[39m\u001b[39m.\u001b[39m_response_closed\n\u001b[1;32m    296\u001b[0m )\n",
      "File \u001b[0;32m~/anaconda3/envs/knowEng/lib/python3.10/site-packages/httpcore/_sync/http2.py:344\u001b[0m, in \u001b[0;36mSyncHTTP2Stream.receive_response\u001b[0;34m(self, timeout)\u001b[0m\n\u001b[1;32m    340\u001b[0m \u001b[39m\"\"\"\u001b[39;00m\n\u001b[1;32m    341\u001b[0m \u001b[39mRead the response status and headers from the network.\u001b[39;00m\n\u001b[1;32m    342\u001b[0m \u001b[39m\"\"\"\u001b[39;00m\n\u001b[1;32m    343\u001b[0m \u001b[39mwhile\u001b[39;00m \u001b[39mTrue\u001b[39;00m:\n\u001b[0;32m--> 344\u001b[0m     event \u001b[39m=\u001b[39m \u001b[39mself\u001b[39;49m\u001b[39m.\u001b[39;49mconnection\u001b[39m.\u001b[39;49mwait_for_event(\u001b[39mself\u001b[39;49m\u001b[39m.\u001b[39;49mstream_id, timeout)\n\u001b[1;32m    345\u001b[0m     \u001b[39mif\u001b[39;00m \u001b[39misinstance\u001b[39m(event, h2\u001b[39m.\u001b[39mevents\u001b[39m.\u001b[39mResponseReceived):\n\u001b[1;32m    346\u001b[0m         \u001b[39mbreak\u001b[39;00m\n",
      "File \u001b[0;32m~/anaconda3/envs/knowEng/lib/python3.10/site-packages/httpcore/_sync/http2.py:197\u001b[0m, in \u001b[0;36mSyncHTTP2Connection.wait_for_event\u001b[0;34m(self, stream_id, timeout)\u001b[0m\n\u001b[1;32m    195\u001b[0m \u001b[39mwith\u001b[39;00m \u001b[39mself\u001b[39m\u001b[39m.\u001b[39mread_lock:\n\u001b[1;32m    196\u001b[0m     \u001b[39mwhile\u001b[39;00m \u001b[39mnot\u001b[39;00m \u001b[39mself\u001b[39m\u001b[39m.\u001b[39mevents[stream_id]:\n\u001b[0;32m--> 197\u001b[0m         \u001b[39mself\u001b[39;49m\u001b[39m.\u001b[39;49mreceive_events(timeout)\n\u001b[1;32m    198\u001b[0m \u001b[39mreturn\u001b[39;00m \u001b[39mself\u001b[39m\u001b[39m.\u001b[39mevents[stream_id]\u001b[39m.\u001b[39mpop(\u001b[39m0\u001b[39m)\n",
      "File \u001b[0;32m~/anaconda3/envs/knowEng/lib/python3.10/site-packages/httpcore/_sync/http2.py:204\u001b[0m, in \u001b[0;36mSyncHTTP2Connection.receive_events\u001b[0;34m(self, timeout)\u001b[0m\n\u001b[1;32m    200\u001b[0m \u001b[39mdef\u001b[39;00m \u001b[39mreceive_events\u001b[39m(\u001b[39mself\u001b[39m, timeout: TimeoutDict) \u001b[39m-\u001b[39m\u001b[39m>\u001b[39m \u001b[39mNone\u001b[39;00m:\n\u001b[1;32m    201\u001b[0m     \u001b[39m\"\"\"\u001b[39;00m\n\u001b[1;32m    202\u001b[0m \u001b[39m    Read some data from the network, and update the H2 state.\u001b[39;00m\n\u001b[1;32m    203\u001b[0m \u001b[39m    \"\"\"\u001b[39;00m\n\u001b[0;32m--> 204\u001b[0m     data \u001b[39m=\u001b[39m \u001b[39mself\u001b[39;49m\u001b[39m.\u001b[39;49msocket\u001b[39m.\u001b[39;49mread(\u001b[39mself\u001b[39;49m\u001b[39m.\u001b[39;49mREAD_NUM_BYTES, timeout)\n\u001b[1;32m    205\u001b[0m     events \u001b[39m=\u001b[39m \u001b[39mself\u001b[39m\u001b[39m.\u001b[39mh2_state\u001b[39m.\u001b[39mreceive_data(data)\n\u001b[1;32m    206\u001b[0m     \u001b[39mfor\u001b[39;00m event \u001b[39min\u001b[39;00m events:\n",
      "File \u001b[0;32m~/anaconda3/envs/knowEng/lib/python3.10/site-packages/httpcore/_backends/sync.py:62\u001b[0m, in \u001b[0;36mSyncSocketStream.read\u001b[0;34m(self, n, timeout)\u001b[0m\n\u001b[1;32m     60\u001b[0m \u001b[39mwith\u001b[39;00m map_exceptions(exc_map):\n\u001b[1;32m     61\u001b[0m     \u001b[39mself\u001b[39m\u001b[39m.\u001b[39msock\u001b[39m.\u001b[39msettimeout(read_timeout)\n\u001b[0;32m---> 62\u001b[0m     \u001b[39mreturn\u001b[39;00m \u001b[39mself\u001b[39;49m\u001b[39m.\u001b[39;49msock\u001b[39m.\u001b[39;49mrecv(n)\n",
      "File \u001b[0;32m~/anaconda3/envs/knowEng/lib/python3.10/ssl.py:1259\u001b[0m, in \u001b[0;36mSSLSocket.recv\u001b[0;34m(self, buflen, flags)\u001b[0m\n\u001b[1;32m   1255\u001b[0m     \u001b[39mif\u001b[39;00m flags \u001b[39m!=\u001b[39m \u001b[39m0\u001b[39m:\n\u001b[1;32m   1256\u001b[0m         \u001b[39mraise\u001b[39;00m \u001b[39mValueError\u001b[39;00m(\n\u001b[1;32m   1257\u001b[0m             \u001b[39m\"\u001b[39m\u001b[39mnon-zero flags not allowed in calls to recv() on \u001b[39m\u001b[39m%s\u001b[39;00m\u001b[39m\"\u001b[39m \u001b[39m%\u001b[39m\n\u001b[1;32m   1258\u001b[0m             \u001b[39mself\u001b[39m\u001b[39m.\u001b[39m\u001b[39m__class__\u001b[39m)\n\u001b[0;32m-> 1259\u001b[0m     \u001b[39mreturn\u001b[39;00m \u001b[39mself\u001b[39;49m\u001b[39m.\u001b[39;49mread(buflen)\n\u001b[1;32m   1260\u001b[0m \u001b[39melse\u001b[39;00m:\n\u001b[1;32m   1261\u001b[0m     \u001b[39mreturn\u001b[39;00m \u001b[39msuper\u001b[39m()\u001b[39m.\u001b[39mrecv(buflen, flags)\n",
      "File \u001b[0;32m~/anaconda3/envs/knowEng/lib/python3.10/ssl.py:1132\u001b[0m, in \u001b[0;36mSSLSocket.read\u001b[0;34m(self, len, buffer)\u001b[0m\n\u001b[1;32m   1130\u001b[0m         \u001b[39mreturn\u001b[39;00m \u001b[39mself\u001b[39m\u001b[39m.\u001b[39m_sslobj\u001b[39m.\u001b[39mread(\u001b[39mlen\u001b[39m, buffer)\n\u001b[1;32m   1131\u001b[0m     \u001b[39melse\u001b[39;00m:\n\u001b[0;32m-> 1132\u001b[0m         \u001b[39mreturn\u001b[39;00m \u001b[39mself\u001b[39;49m\u001b[39m.\u001b[39;49m_sslobj\u001b[39m.\u001b[39;49mread(\u001b[39mlen\u001b[39;49m)\n\u001b[1;32m   1133\u001b[0m \u001b[39mexcept\u001b[39;00m SSLError \u001b[39mas\u001b[39;00m x:\n\u001b[1;32m   1134\u001b[0m     \u001b[39mif\u001b[39;00m x\u001b[39m.\u001b[39margs[\u001b[39m0\u001b[39m] \u001b[39m==\u001b[39m SSL_ERROR_EOF \u001b[39mand\u001b[39;00m \u001b[39mself\u001b[39m\u001b[39m.\u001b[39msuppress_ragged_eofs:\n",
      "\u001b[0;31mKeyboardInterrupt\u001b[0m: "
     ]
    }
   ],
   "source": [
    "supermarket_df = pd.read_json('supermarket_data/supermarket.json', encoding='UTF-8')\n",
    "ah_products = pd.DataFrame(supermarket_df.iloc[0]['d'])\n",
    "\n",
    "# Translate all items from the supermarket data\n",
    "def translator(output_path='supermarket-data/ah_products_en.csv', write=True) -> None:\n",
    "  translator = Translator()\n",
    "  tarray = []\n",
    "\n",
    "  for product in ah_products['n']:\n",
    "    translations = translator.translate(product, src=\"nl\", dest=\"en\")\n",
    "    tarray.append(translations.text)\n",
    "\n",
    "  ah_products['l_en'] = tarray\n",
    "  if write:\n",
    "    ah_products.to_csv(output_path)\n",
    "    print(f'Wrote translated products to {output_path}')\n",
    "  else:\n",
    "    print(\"Done translating inplace\")\n",
    "\n",
    "def merge_ingredients(df: pd.DataFrame, supermarket_df: pd.DataFrame) -> pd.DataFrame:\n",
    "  butter_candidates = ah_prod_en[ah_prod_en['l_en'].str.contains('butter')]\n",
    "  butter_candidates['string_length'] = butter_candidates['l_en'].str.len()\n",
    "\n",
    "  # Find the length of the shortest string\n",
    "  min_length = butter_candidates['string_length'].min()\n",
    "\n",
    "  # Create a boolean mask that is True for rows where the string length is equal to the shortest length\n",
    "  mask = (butter_candidates['string_length'] == min_length)\n",
    "\n",
    "  # Apply the mask to get the row(s) with the shortest string in 'l_en'\n",
    "  shortest_butter_candidates = butter_candidates[mask]\n",
    "  shortest_butter_candidates\n"
   ]
  },
  {
   "cell_type": "code",
   "execution_count": null,
   "metadata": {},
   "outputs": [],
   "source": [
    "recipe_df.head()"
   ]
  },
  {
   "cell_type": "code",
   "execution_count": null,
   "metadata": {},
   "outputs": [],
   "source": [
    "\n",
    "##### DOES NOTHING RIGHT NOW #####\n",
    "\n",
    "import networkx as nx\n",
    "from pyvis.network import Network\n",
    "from IPython.core.display import HTML\n",
    "\n",
    "# Enable the pyvis interactive display in the Jupyter notebook\n",
    "from pyvis import network as net\n",
    "net.template = \"notebook\"\n",
    "net.NOTEBOOK = True\n",
    "\n",
    "\n",
    "# Create a NetworkX graph\n",
    "G = nx.Graph()\n",
    "node_list = []\n",
    "edge_list = []\n",
    "for key, value in dictTopic.items():\n",
    "    if data[int(key)].find('country') != None:\n",
    "        country = data[int(key)].find('country').text\n",
    "        country = country.replace(f'</country>', \"\")\n",
    "\n",
    "        topic = dictTopic[key].replace(f'<topic type=\"str\">', \"\")\n",
    "        topic = topic.replace(f'</topic>', \"\")\n",
    "        node_list.append(country)\n",
    "        node_list.append(topic)\n",
    "        edge_list.append((country, topic))\n",
    "    else:\n",
    "        #print(\"we didn't find a country for this specific article: \", data[int(key)].attrib['id'])\n",
    "        pass\n",
    "    \n",
    "G.add_nodes_from(node_list)\n",
    "G.add_edges_from(edge_list)\n",
    "\n",
    "# Create a pyvis network object\n",
    "net = Network(height=\"500px\", width=\"100%\", bgcolor=\"#222222\", font_color=\"white\", notebook=True)\n",
    "\n",
    "# Add nodes and edges to the pyvis network object, and set tooltips for each node\n",
    "for node in G.nodes():\n",
    "    tooltip = \"{}\".format(node)\n",
    "    net.add_node(node, title=tooltip)\n",
    "for edge in G.edges():\n",
    "    net.add_edge(*edge, title=\"hasTopic\")\n",
    "print(\"Please zoom-in using your scrollwheel and hover over the nodes and edges\")\n",
    "# Display the interactive network graph with tooltips in the Jupyter notebook\n",
    "\n",
    "net.show(\"example.html\")"
   ]
  }
 ],
 "metadata": {
  "kernelspec": {
   "display_name": "Python 3.10.6 ('knowEng')",
   "language": "python",
   "name": "python3"
  },
  "language_info": {
   "codemirror_mode": {
    "name": "ipython",
    "version": 3
   },
   "file_extension": ".py",
   "mimetype": "text/x-python",
   "name": "python",
   "nbconvert_exporter": "python",
   "pygments_lexer": "ipython3",
   "version": "3.10.6"
  },
  "orig_nbformat": 4,
  "vscode": {
   "interpreter": {
    "hash": "95f476ca78fdcd178a66061f81770c5180b89ff82e4d44ec6baf5a8a31d832b5"
   }
  }
 },
 "nbformat": 4,
 "nbformat_minor": 2
}
